{
 "cells": [
  {
   "cell_type": "code",
   "execution_count": null,
   "id": "ae28e9b6-4e07-4c7d-b1ff-95d835cc9aed",
   "metadata": {},
   "outputs": [],
   "source": []
  },
  {
   "cell_type": "code",
   "execution_count": null,
   "id": "3e0e6320-cb42-48f6-88d0-39e5ae4195fb",
   "metadata": {},
   "outputs": [],
   "source": []
  },
  {
   "cell_type": "code",
   "execution_count": 2,
   "id": "d593fd7f-4a58-439d-aebc-a3dab1c811f7",
   "metadata": {},
   "outputs": [
    {
     "data": {
      "text/plain": [
       "True"
      ]
     },
     "execution_count": 2,
     "metadata": {},
     "output_type": "execute_result"
    }
   ],
   "source": [
    "import torch\n",
    "torch.cuda.is_available()"
   ]
  },
  {
   "cell_type": "code",
   "execution_count": 3,
   "id": "2100a010-e17e-4143-8a66-a15f98ccc9a0",
   "metadata": {},
   "outputs": [
    {
     "name": "stdout",
     "output_type": "stream",
     "text": [
      "tensor([2.], requires_grad=True)\n"
     ]
    }
   ],
   "source": [
    "x = torch.tensor([2.0], requires_grad=True)\n",
    "print(x)"
   ]
  },
  {
   "cell_type": "code",
   "execution_count": 4,
   "id": "5505041d-9e15-43d2-849f-208936905d4c",
   "metadata": {},
   "outputs": [
    {
     "name": "stdout",
     "output_type": "stream",
     "text": [
      "tensor([9.], grad_fn=<AddBackward0>)\n"
     ]
    }
   ],
   "source": [
    "y = x ** 2 + 2 * x + 1\n",
    "print(y)"
   ]
  },
  {
   "cell_type": "code",
   "execution_count": 5,
   "id": "ae79d275-bf2e-4d97-9726-42689f8fecb7",
   "metadata": {},
   "outputs": [],
   "source": [
    "y.backward()"
   ]
  },
  {
   "cell_type": "code",
   "execution_count": 6,
   "id": "c9c0bdca-8311-4f25-9fab-9d9a4f46d355",
   "metadata": {},
   "outputs": [
    {
     "data": {
      "text/plain": [
       "tensor([6.])"
      ]
     },
     "execution_count": 6,
     "metadata": {},
     "output_type": "execute_result"
    }
   ],
   "source": [
    "x.grad"
   ]
  },
  {
   "cell_type": "code",
   "execution_count": 6,
   "id": "600b1424-3e49-46b6-b420-46a56091f493",
   "metadata": {},
   "outputs": [
    {
     "name": "stdout",
     "output_type": "stream",
     "text": [
      "tensor([1., 1., 1.])\n"
     ]
    }
   ],
   "source": [
    "import torch\n",
    "\n",
    "# Create a tensor with requires_grad=True\n",
    "x = torch.tensor([1., 2., 3.], requires_grad=True)\n",
    "\n",
    "# Compute a function of x\n",
    "y = x.sum()\n",
    "\n",
    "# Compute gradients of y with respect to x\n",
    "y.backward()\n",
    "\n",
    "# Print gradients of x\n",
    "print(x.grad)"
   ]
  },
  {
   "cell_type": "code",
   "execution_count": 5,
   "id": "87bf1c3a-77a0-416c-8676-b7adebf9352a",
   "metadata": {},
   "outputs": [
    {
     "name": "stdout",
     "output_type": "stream",
     "text": [
      "tensor([0.1966, 0.1050])\n",
      "tensor([0.1966, 0.1050], grad_fn=<MulBackward0>)\n"
     ]
    }
   ],
   "source": [
    "# Exercise 1\n",
    "# Compute the gradient for the sigmoid activation function in 2 points using pytorch and check it with the known explicit formula\n",
    "import torch\n",
    "import matplotlib.pyplot as plt\n",
    "x = torch.tensor([1.0, 2.0], requires_grad=True)\n",
    "y = torch.sigmoid(x)\n",
    "y=y.sum()\n",
    "y=y.backward()\n",
    "print (x.grad)\n",
    "\n",
    "y=1/(1+ torch.exp(-x))\n",
    "print(y*(1-y))\n"
   ]
  },
  {
   "cell_type": "code",
   "execution_count": 6,
   "id": "85cf98d5-1db4-4d30-9124-46b386ccd2bb",
   "metadata": {},
   "outputs": [
    {
     "name": "stdout",
     "output_type": "stream",
     "text": [
      "tensor([1., 1.])\n",
      "tensor([1., 1.])\n"
     ]
    }
   ],
   "source": [
    "# Exercise 2.\n",
    "\n",
    "# Compute the gradient for the linear activation function in 2 points using pytorch and check it with the known explicit formula\n",
    "\n",
    "\n",
    "x = torch.tensor([1.0, 2.0], requires_grad=True)\n",
    "y= x\n",
    "y=y.sum()\n",
    "y=y.backward()\n",
    "print (x.grad)\n",
    "\n",
    "\n",
    "grad_formula = torch.tensor([1.0, 1.0])  # Construct tensor with ones manually\n",
    "print(grad_formula)\n",
    "\n"
   ]
  },
  {
   "cell_type": "code",
   "execution_count": 7,
   "id": "089dc0fc-40fc-4927-ae29-d60342158f6b",
   "metadata": {},
   "outputs": [
    {
     "name": "stdout",
     "output_type": "stream",
     "text": [
      "tensor([1., 0.])\n",
      "tensor([1., 0.])\n"
     ]
    }
   ],
   "source": [
    "# Exercise 3.\n",
    "\n",
    "# Compute the gradient for the relu activation function in 2 points using pytorch and check it with the known explicit formula.\n",
    "\n",
    "x = torch.tensor([1.0, 0.0], requires_grad=True)\n",
    "Rel = torch.nn.ReLU()\n",
    "y= Rel(x)\n",
    "y=y.sum().backward()\n",
    "print(x.grad)\n",
    "\n",
    "grad= torch.where(x > 0, torch.tensor(1.0), torch.tensor(0.0))\n",
    "print(grad)"
   ]
  },
  {
   "cell_type": "code",
   "execution_count": null,
   "id": "23d01967-6694-4a76-9db3-5b95cf144ac1",
   "metadata": {},
   "outputs": [],
   "source": []
  },
  {
   "cell_type": "code",
   "execution_count": 8,
   "id": "40cacac9-3af0-49c5-beda-0eb89bb9411f",
   "metadata": {},
   "outputs": [
    {
     "data": {
      "image/png": "[encoded data removed]",
      "text/plain": [
       "<Figure size 600x400 with 1 Axes>"
      ]
     },
     "metadata": {},
     "output_type": "display_data"
    }
   ],
   "source": [
    "\n",
    "def sigmoid(x):\n",
    "    return 1 / (1 + torch.exp(-x))\n",
    "\n",
    "x = torch.linspace(-5, 5, 300)\n",
    "y = sigmoid(x)\n",
    "y_grad = sigmoid(x) * (1 - sigmoid(x))\n",
    "\n",
    "fig, ax = plt.subplots(nrows=1, ncols=1, figsize=(6,4))\n",
    "ax.plot(x, y, 'red', label='function')\n",
    "ax.plot(x, y_grad, 'green', label='gradient')\n",
    "ax.set_xlabel('x')\n",
    "plt.legend()\n",
    "plt.show()\n"
   ]
  },
  {
   "cell_type": "code",
   "execution_count": 9,
   "id": "91613e1d-e6be-4a3d-ab98-27e507896c27",
   "metadata": {},
   "outputs": [
    {
     "data": {
      "image/png": "[encoded data removed]",
      "text/plain": [
       "<Figure size 600x400 with 1 Axes>"
      ]
     },
     "metadata": {},
     "output_type": "display_data"
    }
   ],
   "source": [
    "\n",
    "Rel = torch.nn.ReLU()    \n",
    "x = torch.linspace(-5, 15, 200)\n",
    "y = Rel(x)\n",
    "y_grad = torch.where(x > 0, 1, 0)\n",
    "fig, ax = plt.subplots(nrows=1, ncols=1, figsize=(6,4))\n",
    "ax.plot(x, y, 'red', label='function')\n",
    "ax.plot(x, y_grad, 'green', label='gradient')\n",
    "ax.set_xlabel('x')\n",
    "plt.legend()\n",
    "plt.show()\n"
   ]
  },
  {
   "cell_type": "code",
   "execution_count": 10,
   "id": "b250bd76-1bbc-482e-b6eb-32edcb195b90",
   "metadata": {},
   "outputs": [
    {
     "data": {
      "image/png": "[encoded data removed]",
      "text/plain": [
       "<Figure size 600x400 with 1 Axes>"
      ]
     },
     "metadata": {},
     "output_type": "display_data"
    }
   ],
   "source": [
    "\n",
    "\n",
    "def tanh_grad(x):\n",
    "    return 1 - torch.tanh(x) ** 2\n",
    "\n",
    "x = torch.linspace(-10, 10, 100)\n",
    "y = torch.tanh(x)\n",
    "\n",
    "y_grad=tanh_grad(x)\n",
    "\n",
    "\n",
    "fig, ax = plt.subplots(nrows=1, ncols=1, figsize=(6,4))\n",
    "ax.plot(x, y, 'red',  label='function')\n",
    "ax.plot(x, y_grad, 'green', label='function gradient')\n",
    "ax.set_xlabel('x')\n",
    "plt.legend()\n",
    "plt.show()\n"
   ]
  },
  {
   "cell_type": "code",
   "execution_count": 11,
   "id": "c5b52116-35bf-4059-b6fa-070a09dbbdb3",
   "metadata": {},
   "outputs": [
    {
     "data": {
      "image/png": "[encoded data removed]",
      "text/plain": [
       "<Figure size 600x400 with 1 Axes>"
      ]
     },
     "metadata": {},
     "output_type": "display_data"
    }
   ],
   "source": [
    "\n",
    "\n",
    "x = torch.linspace(-10, 15, 200, requires_grad=True)\n",
    "Lrelu = torch.nn.LeakyReLU(0.1)\n",
    "y = Lrelu(x)\n",
    "y.sum().backward()\n",
    "grad = x.grad\n",
    "fig, ax = plt.subplots(nrows=1, ncols=1, figsize=(6, 4))\n",
    "ax.plot(x.detach().numpy(), y.detach().numpy(), 'red', label='Leaky ReLU function')\n",
    "ax.plot(x.detach().numpy(), grad.detach().numpy(), 'green', label='Gradient')\n",
    "ax.set_xlabel('x')\n",
    "plt.legend()\n",
    "plt.show()"
   ]
  },
  {
   "cell_type": "code",
   "execution_count": 12,
   "id": "e9a3ce1b-f75f-4dc2-b1b4-99ae9d52992b",
   "metadata": {},
   "outputs": [],
   "source": [
    "import torch\n",
    "import torch.nn as nn\n",
    "\n",
    "input_size = 2\n",
    "output_size = 1\n",
    "\n",
    "class Perceptron(torch.nn.Module):\n",
    "    def __init__(self, input_dim, output_dim):\n",
    "        super(Perceptron, self).__init__()\n",
    "        self.linear = torch.nn.Linear(input_dim, output_dim)\n",
    "        self.activation = torch.nn.Sigmoid()\n",
    "        \n",
    "    def forward(self, x):\n",
    "        x = self.linear(x)\n",
    "        x = self.activation(x)\n",
    "        return x"
   ]
  },
  {
   "cell_type": "code",
   "execution_count": 73,
   "id": "5a76538c-76ae-4d37-bede-3805fa481e39",
   "metadata": {},
   "outputs": [
    {
     "name": "stdout",
     "output_type": "stream",
     "text": [
      "tensor([0.5800], grad_fn=<SigmoidBackward0>)\n"
     ]
    }
   ],
   "source": [
    "perceptron = Perceptron(input_size, output_size)\n",
    "x = torch.tensor([0.5, 0.2])\n",
    "y = perceptron(x)\n",
    "print(y)"
   ]
  },
  {
   "cell_type": "code",
   "execution_count": 74,
   "id": "32159a22-c3dc-457d-aab6-220b0a6d1d90",
   "metadata": {},
   "outputs": [
    {
     "name": "stdout",
     "output_type": "stream",
     "text": [
      "Epoch [100/1000], Loss: 0.5151\n",
      "Epoch [200/1000], Loss: 0.4962\n",
      "Epoch [300/1000], Loss: 0.4932\n",
      "Epoch [400/1000], Loss: 0.4927\n",
      "Epoch [500/1000], Loss: 0.4925\n",
      "Epoch [600/1000], Loss: 0.4925\n",
      "Epoch [700/1000], Loss: 0.4925\n",
      "Epoch [800/1000], Loss: 0.4925\n",
      "Epoch [900/1000], Loss: 0.4925\n",
      "Epoch [1000/1000], Loss: 0.4925\n"
     ]
    }
   ],
   "source": [
    "# Define the loss function and optimizer\n",
    "criterion = nn.BCELoss()  # Binary cross-entropy loss\n",
    "optimizer = torch.optim.SGD(perceptron.parameters(), lr=0.1)  # Stochastic gradient descent optimizer\n",
    "\n",
    "# Generate some random input data and labels\n",
    "input_data = torch.randn((10, input_size))\n",
    "labels = torch.randint(0, 2, (10, output_size)).float()\n",
    "\n",
    "# Train the model\n",
    "num_epochs = 1000\n",
    "for epoch in range(num_epochs):\n",
    "    # Forward pass\n",
    "    outputs = perceptron(input_data)\n",
    "    loss = criterion(outputs, labels)\n",
    "\n",
    "    # Backward pass and optimization\n",
    "    optimizer.zero_grad()\n",
    "    loss.backward()\n",
    "    optimizer.step()\n",
    "\n",
    "    # Print the loss every 100 epochs\n",
    "    if (epoch + 1) % 100 == 0:\n",
    "        print(f'Epoch [{epoch+1}/{num_epochs}], Loss: {loss.item():.4f}')"
   ]
  },
  {
   "cell_type": "code",
   "execution_count": 75,
   "id": "616edb54-fd00-4a1e-88d9-97d86b006a68",
   "metadata": {},
   "outputs": [],
   "source": [
    "# Exercise 8"
   ]
  },
  {
   "cell_type": "code",
   "execution_count": 105,
   "id": "69cf7bf9-ba8c-49b2-86ce-52d555f4b677",
   "metadata": {},
   "outputs": [
    {
     "name": "stdout",
     "output_type": "stream",
     "text": [
      "tensor([0.3614], grad_fn=<SigmoidBackward0>)\n",
      "Epoch [100/1000], Loss: 0.5868\n",
      "Epoch [200/1000], Loss: 0.5827\n",
      "Epoch [300/1000], Loss: 0.5819\n",
      "Epoch [400/1000], Loss: 0.5817\n",
      "Epoch [500/1000], Loss: 0.5816\n",
      "Epoch [600/1000], Loss: 0.5816\n",
      "Epoch [700/1000], Loss: 0.5816\n",
      "Epoch [800/1000], Loss: 0.5816\n",
      "Epoch [900/1000], Loss: 0.5816\n",
      "Epoch [1000/1000], Loss: 0.5816\n",
      "Accuracy: 0.50\n"
     ]
    }
   ],
   "source": [
    "import torch\n",
    "import torch.nn as nn\n",
    "\n",
    "input_size = 2\n",
    "output_size = 1\n",
    "\n",
    "class Perceptron(torch.nn.Module):\n",
    "    def __init__(self, input_dim, output_dim):\n",
    "        super(Perceptron, self).__init__()\n",
    "        self.linear = torch.nn.Linear(input_dim, output_dim)\n",
    "        self.activation = torch.nn.Sigmoid()\n",
    "        \n",
    "    def forward(self, x):\n",
    "        x = self.linear(x)\n",
    "        x = self.activation(x)\n",
    "        return x\n",
    "\n",
    "perceptron = Perceptron(input_size, output_size)\n",
    "x = torch.tensor([0.5, 0.2])\n",
    "y = perceptron(x)\n",
    "print(y)\n",
    "\n",
    "# Define the loss function and optimizer\n",
    "criterion = nn.BCELoss()  # Binary cross-entropy loss\n",
    "optimizer = torch.optim.SGD(perceptron.parameters(), lr=0.1)  # Stochastic gradient descent optimizer\n",
    "\n",
    "# Generate some random input data and labels\n",
    "input_data = torch.randn((10, input_size))\n",
    "labels = torch.randint(0, 2, (10, output_size)).float()\n",
    "\n",
    "# Train the model\n",
    "num_epochs = 1000\n",
    "for epoch in range(num_epochs):\n",
    "    # Forward pass\n",
    "    outputs = perceptron(input_data)\n",
    "    loss = criterion(outputs, labels)\n",
    "\n",
    "    # Backward pass and optimization\n",
    "    optimizer.zero_grad()\n",
    "    loss.backward()\n",
    "    optimizer.step()\n",
    "\n",
    "    # Print the loss every 100 epochs\n",
    "    if (epoch + 1) % 100 == 0:\n",
    "        print(f'Epoch [{epoch+1}/{num_epochs}], Loss: {loss.item():.4f}')\n",
    "\n",
    "\n",
    "# Generate a test dataset for logic OR operation\n",
    "test_input_data = torch.tensor([[0, 0], [0, 1], [1, 0], [1, 1]], dtype=torch.float32)\n",
    "\n",
    "# Define the labels for the logic OR operation\n",
    "test_labels = torch.tensor([[0], [1], [1], [1]], dtype=torch.float32)\n",
    "\n",
    "# Pass the test dataset through the trained perceptron\n",
    "with torch.no_grad():\n",
    "    predictions = perceptron(test_input_data)\n",
    "\n",
    "    # Round the predictions to get binary values (0 or 1)\n",
    "    binary_predictions = torch.round(predictions)\n",
    "    \n",
    "    # Compare the predictions with the actual labels and calculate the accuracy\n",
    "    correct_predictions = torch.sum(binary_predictions == test_labels)\n",
    "    total_samples = test_labels.size(0)\n",
    "    accuracy = correct_predictions.item() / total_samples\n",
    "\n",
    "print(f\"Accuracy: {accuracy:.2f}\")"
   ]
  },
  {
   "cell_type": "code",
   "execution_count": null,
   "id": "dfc2ed0e-c9a0-408d-ab8a-39326f6b72b4",
   "metadata": {},
   "outputs": [],
   "source": []
  }
 ],
 "metadata": {
  "kernelspec": {
   "display_name": "Python 3 (ipykernel)",
   "language": "python",
   "name": "python3"
  },
  "language_info": {
   "codemirror_mode": {
    "name": "ipython",
    "version": 3
   },
   "file_extension": ".py",
   "mimetype": "text/x-python",
   "name": "python",
   "nbconvert_exporter": "python",
   "pygments_lexer": "ipython3",
   "version": "3.11.8"
  }
 },
 "nbformat": 4,
 "nbformat_minor": 5
}
